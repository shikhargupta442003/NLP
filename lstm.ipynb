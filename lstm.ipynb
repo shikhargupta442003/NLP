{
  "nbformat": 4,
  "nbformat_minor": 0,
  "metadata": {
    "colab": {
      "provenance": [],
      "gpuType": "T4"
    },
    "kernelspec": {
      "name": "python3",
      "display_name": "Python 3"
    },
    "language_info": {
      "name": "python"
    },
    "accelerator": "GPU"
  },
  "cells": [
    {
      "cell_type": "code",
      "execution_count": 6,
      "metadata": {
        "id": "GmBItclcI6Ka"
      },
      "outputs": [],
      "source": [
        "from tensorflow.keras.preprocessing.text import one_hot"
      ]
    },
    {
      "cell_type": "code",
      "source": [
        "import tensorflow as tf\n",
        "print(tf.__version__)"
      ],
      "metadata": {
        "colab": {
          "base_uri": "https://localhost:8080/"
        },
        "id": "hVyCViOpJM_4",
        "outputId": "acaaeee1-2664-4d70-9c33-32019b9b770d"
      },
      "execution_count": 8,
      "outputs": [
        {
          "output_type": "stream",
          "name": "stdout",
          "text": [
            "2.15.0\n"
          ]
        }
      ]
    },
    {
      "cell_type": "code",
      "source": [
        "sent=[  'the glass of milk',\n",
        "     'the glass of juice',\n",
        "     'the cup of tea',\n",
        "    'I am a good boy',\n",
        "     'I am a good developer',\n",
        "     'understand the meaning of words',\n",
        "     'your videos are good']"
      ],
      "metadata": {
        "id": "e5z9xP-JJsmI"
      },
      "execution_count": 9,
      "outputs": []
    },
    {
      "cell_type": "code",
      "source": [
        "voc_size=500"
      ],
      "metadata": {
        "id": "R7ENVcjFJwMq"
      },
      "execution_count": 26,
      "outputs": []
    },
    {
      "cell_type": "code",
      "source": [
        "onehot_repr=[one_hot(words,voc_size) for words in sent]\n",
        "print(onehot_repr)"
      ],
      "metadata": {
        "colab": {
          "base_uri": "https://localhost:8080/"
        },
        "id": "RtyIHfmiKISa",
        "outputId": "c8484ce6-1435-4043-9c0c-b312f986092d"
      },
      "execution_count": 27,
      "outputs": [
        {
          "output_type": "stream",
          "name": "stdout",
          "text": [
            "[[7, 347, 98, 83], [7, 347, 98, 499], [7, 425, 98, 276], [81, 40, 479, 263, 354], [81, 40, 479, 263, 446], [18, 7, 344, 98, 96], [51, 480, 292, 263]]\n"
          ]
        }
      ]
    },
    {
      "cell_type": "code",
      "source": [
        "from tensorflow.keras.layers import Embedding\n",
        "from tensorflow.keras.preprocessing.sequence import pad_sequences\n",
        "from tensorflow.keras.models import Sequential"
      ],
      "metadata": {
        "id": "Ko3O4mQgKYqr"
      },
      "execution_count": 28,
      "outputs": []
    },
    {
      "cell_type": "code",
      "source": [
        "import numpy as np"
      ],
      "metadata": {
        "id": "BgrCa8SNMCoG"
      },
      "execution_count": 29,
      "outputs": []
    },
    {
      "cell_type": "code",
      "source": [
        "sent_length=8\n",
        "embedded_docs=pad_sequences(onehot_repr,padding='pre',maxlen=sent_length)\n",
        "print(embedded_docs)"
      ],
      "metadata": {
        "colab": {
          "base_uri": "https://localhost:8080/"
        },
        "id": "yWZLL8H-MfLE",
        "outputId": "e1fce9b2-54eb-4c36-9781-3accb0aba6f4"
      },
      "execution_count": 30,
      "outputs": [
        {
          "output_type": "stream",
          "name": "stdout",
          "text": [
            "[[  0   0   0   0   7 347  98  83]\n",
            " [  0   0   0   0   7 347  98 499]\n",
            " [  0   0   0   0   7 425  98 276]\n",
            " [  0   0   0  81  40 479 263 354]\n",
            " [  0   0   0  81  40 479 263 446]\n",
            " [  0   0   0  18   7 344  98  96]\n",
            " [  0   0   0   0  51 480 292 263]]\n"
          ]
        }
      ]
    },
    {
      "cell_type": "code",
      "source": [
        "dim=10"
      ],
      "metadata": {
        "id": "hIF85f4lMuGL"
      },
      "execution_count": 31,
      "outputs": []
    },
    {
      "cell_type": "code",
      "source": [
        "model=Sequential()\n",
        "model.add(Embedding(voc_size,10,input_length=sent_length))\n",
        "model.compile('adam','mse')"
      ],
      "metadata": {
        "id": "RmenSZZuNQB_"
      },
      "execution_count": 32,
      "outputs": []
    },
    {
      "cell_type": "code",
      "source": [
        "model.summary()"
      ],
      "metadata": {
        "colab": {
          "base_uri": "https://localhost:8080/"
        },
        "id": "qRRe21gSNggT",
        "outputId": "011f5391-cf65-4123-efe0-f92a020e69a7"
      },
      "execution_count": 34,
      "outputs": [
        {
          "output_type": "stream",
          "name": "stdout",
          "text": [
            "Model: \"sequential_1\"\n",
            "_________________________________________________________________\n",
            " Layer (type)                Output Shape              Param #   \n",
            "=================================================================\n",
            " embedding_1 (Embedding)     (None, 8, 10)             5000      \n",
            "                                                                 \n",
            "=================================================================\n",
            "Total params: 5000 (19.53 KB)\n",
            "Trainable params: 5000 (19.53 KB)\n",
            "Non-trainable params: 0 (0.00 Byte)\n",
            "_________________________________________________________________\n"
          ]
        }
      ]
    },
    {
      "cell_type": "code",
      "source": [
        "embedded_docs[0]"
      ],
      "metadata": {
        "colab": {
          "base_uri": "https://localhost:8080/"
        },
        "id": "PqJs7W8bOXFQ",
        "outputId": "5ab89e37-6dc3-4084-ae41-f5ac55862c7d"
      },
      "execution_count": 35,
      "outputs": [
        {
          "output_type": "execute_result",
          "data": {
            "text/plain": [
              "array([  0,   0,   0,   0,   7, 347,  98,  83], dtype=int32)"
            ]
          },
          "metadata": {},
          "execution_count": 35
        }
      ]
    },
    {
      "cell_type": "code",
      "source": [
        "model.predict(embedded_docs[0])"
      ],
      "metadata": {
        "colab": {
          "base_uri": "https://localhost:8080/"
        },
        "id": "HebIYgG2OiSQ",
        "outputId": "5cdb302a-0f19-4919-d785-8f768a50b623"
      },
      "execution_count": 36,
      "outputs": [
        {
          "output_type": "stream",
          "name": "stdout",
          "text": [
            "1/1 [==============================] - 0s 113ms/step\n"
          ]
        },
        {
          "output_type": "execute_result",
          "data": {
            "text/plain": [
              "array([[-0.03911148, -0.00122551, -0.04500958,  0.01643233,  0.02496053,\n",
              "        -0.02070828,  0.01161424, -0.03829966, -0.03123219,  0.02763719],\n",
              "       [-0.03911148, -0.00122551, -0.04500958,  0.01643233,  0.02496053,\n",
              "        -0.02070828,  0.01161424, -0.03829966, -0.03123219,  0.02763719],\n",
              "       [-0.03911148, -0.00122551, -0.04500958,  0.01643233,  0.02496053,\n",
              "        -0.02070828,  0.01161424, -0.03829966, -0.03123219,  0.02763719],\n",
              "       [-0.03911148, -0.00122551, -0.04500958,  0.01643233,  0.02496053,\n",
              "        -0.02070828,  0.01161424, -0.03829966, -0.03123219,  0.02763719],\n",
              "       [-0.03490331,  0.0319752 , -0.03841381,  0.02937684, -0.04478065,\n",
              "        -0.03902419,  0.03348992, -0.00758822,  0.00587194, -0.04233864],\n",
              "       [ 0.02852817,  0.04068387,  0.01310698, -0.01892045,  0.04053639,\n",
              "         0.03525161,  0.01961699,  0.03232015, -0.03677924,  0.01110888],\n",
              "       [ 0.00898656, -0.01559452,  0.04119713, -0.00081954, -0.01821595,\n",
              "         0.0437947 , -0.01249756, -0.04447321,  0.04552775, -0.02568018],\n",
              "       [ 0.02377555,  0.0038581 , -0.01144339,  0.04879827,  0.00529754,\n",
              "        -0.00962207,  0.0223431 ,  0.03062865, -0.03618879,  0.0239214 ]],\n",
              "      dtype=float32)"
            ]
          },
          "metadata": {},
          "execution_count": 36
        }
      ]
    },
    {
      "cell_type": "code",
      "source": [
        "sent=[\"The world is a better place\",\n",
        "      \"Marvel series is my favourite movie\",\n",
        "      \"I like DC movies\",\n",
        "      \"the cat is eating the food\",\n",
        "      \"Tom and Jerry is my favourite movie\",\n",
        "      \"Python is my favourite programming language\"\n",
        "      ]"
      ],
      "metadata": {
        "id": "QoP9SsDjOu7B"
      },
      "execution_count": null,
      "outputs": []
    }
  ]
}